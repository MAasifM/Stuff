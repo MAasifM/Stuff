{
 "cells": [
  {
   "cell_type": "code",
   "execution_count": 3,
   "metadata": {},
   "outputs": [],
   "source": [
    "from transformers import AutoModelForCausalLM, AutoTokenizer, pipeline, \\\n",
    "    Pipeline, PreTrainedTokenizer\n",
    "from typing import Any\n",
    "import torch\n",
    "from configparser import ConfigParser\n",
    "\n",
    "class ModelPipelineLoader:\n",
    "    def __init__(self, model_id: str) -> None:\n",
    "        \"\"\"\"\"\"\n",
    "        self._tokenizer: PreTrainedTokenizer = AutoTokenizer.\\\n",
    "            from_pretrained(model_id)\n",
    "        self._model: Any = AutoModelForCausalLM.from_pretrained(\n",
    "            model_id, load_in_8bit=True)\n",
    "        self._pipeline: Pipeline | None = None\n",
    "\n",
    "        # Read the .ini file\n",
    "        config = ConfigParser()\n",
    "        config.read('conf.ini')\n",
    "\n",
    "        # Set the values in the parameters dictionary\n",
    "        self._parameters: dict = {\n",
    "            'torch_dtype': eval(config.get('pipeline.parameters', 'torch_dtype')),\n",
    "            'device_map': config.get('pipeline.parameters', 'device_map'),\n",
    "            'max_new_tokens': config.getint('pipeline.parameters', 'max_new_tokens'),\n",
    "            'do_sample': config.getboolean('pipeline.parameters', 'do_sample'),\n",
    "            'top_k': config.getint('pipeline.parameters', 'top_k'),\n",
    "            'num_return_sequences': config.getint('pipeline.parameters', 'num_return_sequences')\n",
    "        }\n",
    "    \n",
    "    def __repr__(self) -> str:\n",
    "        return f'{self.model}, {self.tokenizer}'\n",
    "    \n",
    "    @property\n",
    "    def model(self):\n",
    "        return self._model\n",
    "\n",
    "    @property\n",
    "    def tokenizer(self):\n",
    "        return self._tokenizer\n",
    "\n",
    "    @property\n",
    "    def pipeline(self):\n",
    "        return self._pipeline\n",
    "    \n",
    "    @property\n",
    "    def parameters(self):\n",
    "        return self._parameters\n",
    "    \n",
    "    \n",
    "    def get_pipeline(self) -> Pipeline:\n",
    "        \"\"\"\"\"\"\n",
    "        if self.pipeline is None:\n",
    "            # Instantiate the model once.\n",
    "            self._pipeline = pipeline(\n",
    "                \"text-generation\",\n",
    "                model=self.model,\n",
    "                tokenizer= self.tokenizer,\n",
    "                torch_dtype = self.parameters['torch_dtype'],\n",
    "                device_map=self.parameters['device_map'],\n",
    "                max_new_tokens = self.parameters['max_new_tokens'],\n",
    "                do_sample=self.parameters['do_sample'],\n",
    "                top_k=self.parameters['top_k'],\n",
    "                num_return_sequences=self.parameters['num_return_sequences'],\n",
    "                eos_token_id=self._tokenizer.eos_token_id,\n",
    "            )\n",
    "\n",
    "        return self.pipeline\n",
    "\n",
    "    def reset(self):\n",
    "        try:\n",
    "            del self._tokenizer\n",
    "            del self._model\n",
    "            torch.cuda.empty_cache()\n",
    "            del self\n",
    "        except:\n",
    "            print(\"Already destroyed.\")\n",
    "\n",
    "    def __del__(self):\n",
    "        try:\n",
    "            del self._tokenizer\n",
    "            del self._model\n",
    "            torch.cuda.empty_cache()\n",
    "            del self\n",
    "        except:\n",
    "            print(\"Already destroyed.\")\n"
   ]
  },
  {
   "cell_type": "code",
   "execution_count": 5,
   "metadata": {},
   "outputs": [
    {
     "name": "stderr",
     "output_type": "stream",
     "text": [
      "Loading checkpoint shards: 100%|██████████| 3/3 [00:03<00:00,  1.15s/it]\n"
     ]
    }
   ],
   "source": [
    "config = ConfigParser()\n",
    "config.read('conf.ini')\n",
    "\n",
    "model_id = 'mistral_7b_v0.2'\n",
    "model_id = config.get('huggingface.models', model_id)\n",
    "\n",
    "pipe = ModelPipelineLoader(model_id)\n"
   ]
  },
  {
   "cell_type": "code",
   "execution_count": 6,
   "metadata": {},
   "outputs": [],
   "source": [
    "import json\n",
    "\n",
    "with open('text_8.txt', 'r') as f:\n",
    "    text_1 = f.read()\n",
    "\n",
    "with open('text_22.txt', 'r', errors='ignore') as f:\n",
    "    text_2 = f.read()\n",
    "\n",
    "with open('json8.json', 'r') as f:\n",
    "    json_1 = json.load(f)"
   ]
  },
  {
   "cell_type": "code",
   "execution_count": 7,
   "metadata": {},
   "outputs": [],
   "source": [
    "def to_str(json: dict):\n",
    "    return f'{json_1}'.replace('\\'', '\\\"')"
   ]
  },
  {
   "cell_type": "code",
   "execution_count": 8,
   "metadata": {},
   "outputs": [],
   "source": [
    "B_INST, E_INST = \"[INST]\", \"[/INST]\"\n",
    "B_SYS, E_SYS = \"<<SYS>>\\n\", \"\\n<</SYS>>\\n\\n\"\n",
    "DEFAULT_SYSTEM_PROMPT = \"\"\"\\\n",
    "You are a helpful, respectful and honest assistant. Always answer as helpfully as possible, while being safe. Your answers should not include any harmful, unethical, racist, sexist, toxic, dangerous, or illegal content. Please ensure that your responses are socially unbiased and positive in nature.\n",
    "\n",
    "If a question does not make any sense, or is not factually coherent, explain why instead of answering something not correct. If you don't know the answer to a question, please don't share false information.\"\"\"\n",
    "\n",
    "\n",
    "# Add system prompt and bring prompt in correct format\n",
    "def get_prompt(instruction, new_system_prompt=DEFAULT_SYSTEM_PROMPT):\n",
    "    SYSTEM_PROMPT = B_SYS + new_system_prompt + E_SYS\n",
    "    prompt_template =  B_INST + SYSTEM_PROMPT + instruction + E_INST\n",
    "    return prompt_template"
   ]
  },
  {
   "cell_type": "code",
   "execution_count": 9,
   "metadata": {},
   "outputs": [],
   "source": [
    "system_prompt = \"\"\"You are a helpful assistant that converts the given text .JSON format, preserving most of the information such that keys of JSON are the major entities present in the text,\n",
    "while the values of JSON are the attributes associated with those entities. \n",
    "Only output the JSON without any text. Please, make good relations instead of writing entire sentences as keys and their values as either true or false\"\"\"\n",
    "\n",
    "system_prompt2 = \"\"\"Transform the following detailed text into a well-structured JSON format. Identify the key entities within the text and use them as JSON keys, \n",
    "and their detailed descriptions as values. Make sure that the JSON is a valid one and contains no syntax issue, and all the bracketes are aligned.\n",
    "With the values, please also enlist the dates as well.\n",
    "Ensure the JSON structure accurately reflects the hierarchical organization of the \n",
    "information in the text. Please be meticulous in filling out all values comprehensively and meaningfully, \n",
    "avoiding the use of boolean values (true or false) and empty fields. The JSON output should strictly \n",
    "contain relevant and accurate data from the text without any addition of extraneous or false information.\n",
    "\n",
    "\"\"\"\n",
    "\n",
    "# text = \"\"\"\n",
    "# CKD chronic labs drawn demonstrate SCr 1.64 --&gt; 1.57 (2/2019) --&gt; 1.54 (6/2019) --&gt; 1.78 (10/2019) --&gt; 1.49 (3/2020 Advised to increase fluid intake not currently taking any nephrotoxic agents monitor Discussed with patient. Due to chronic nature and progressive labs, think nephrology evaluation is prudent at this time. Also counseled on cocaine use This puts patient in CKD stage 3 No albuminuria Does not see kidney doctor Endorses drinking a lot of water daily Denies decreased urine output Eduated pt about current NSAID Use and to use tylenol instead Statesthat he has not been using any NSAIDs Does not use any illict drugs States that he has been drinking alot of water to keep his kidneys hydrated Drinks about 5-6 10oz glasses a day ---------------------------------------------------------------------------------------------------------------------------- ISOLATED ALK PHOS ELEVATIONS 144 --&gt; 141 (10/2019) --&gt; 192 (3/2020) Replete vit D PO. Liver enyzmes WNL on 12/29/2021 States that he was told that he had low vitamin D levels Plan Will check AST/ALT, and bilirubin levels Consider DEXA scan F/u in 1 week ------------------------------------------------------------------------------------------------------------------------- PREDM2 A1C 5.9 (10/2019) --&gt; 5.7 (4/2020) Educated pt on cutting back on sugar intake States that he has been cutting down on sweets as much as he can Reports that he has been so what minful of carbohydrrate intake ---------------------------------------------------------------------------------------------------------------------------------- ANEMIA, NORMOCYTIC Hgb 12.4, MCV 91 ? 2/2 CKD vs. malnutrition? He has a history of malnutrition Statesthat he has has some recent weight loss Does not take any iron tablets --------------------------------------------------------------------------------------------------------------------------------------- VITAMIN D DEF States that he has been drinking lots of milk and has been trying to get out side in the sun -------------------------------------------------------------------------------------------------------------------------------------- UNDERWEIGHT and calorie malnutrition likely from ostomy bag still not able to get much nutrition or absorb much nutrition also not much appetite on daily basis either cont. to encourage to eat more protein Lost 10 lbs since last visit. reports this is due to food insecurity given ongoing pandemic. has difficulty finding the food he wants in stock at the grocery store. Has a colostomy (hx of chron's disease) His weight today is 131lbs BMI 17.78 Plan Will discuss the need for nutritional supplement such as Nepro shake for patients with CKD ------------------------------------------------------------------------------------------------------------------ KNEE PAIN R&gt;&gt;L Chronic issues well controlled with pain meds cont. with this regiment for now a lot of knee stiffness --- Has been dealing with this for a long time with not much avail at this point with OTC meds Stretch exercises discussed Also discuss non-pharmacological approaches such as TENS UNIT, BACK BRACE, ACQUAPUNCTUER, ETC… States that he has been taking pain and OTC medications Pain has been tolerable Plan Continue with medications as prescribed ------------------------------------------------------------------------------------------------------------------- ABDOMINAL COLOSTOMY 30 years ago now used to it seen GI in past they are ok with his current situation 08/20/19 - States he has had Crohn's disease for 30 years, has an ileostomy - States the Sx are well controlled - Doesn't want to F/U with GI States that his ostomy is working fine Has no issues Stoma is red and beefy Denies any blood ---------------------------------------------------------------------------------------------------------------- PULMONARY EMBOLISM (Resolbved) was seeing heme onc DR. BERNARD was told his US legs are neg. he is off of COUMADIN now f/u q6months with them done with anti coags -------------------------------------------------------------------------------------------------------------- Vit D Deficiency Vitamin D Def. Recommend vitamin D DAILY Increase oral intake of dairy, Drink more milk if possible More sun if possible Plan More sun if possible. Increase dietary intake of vitamin D from sources such as: fatty fish such as salmon, tuna, and mackerel, beef liver, cheese, mushrooms, egg yolks, milk, breakfast cereals, orange juice, and other dairy products, such as yogurt, also soy drinks. Replete Vitamin D 50,000 IU weekly Consider DEXA, PTH assessment Denies feeling tiered Plan Will check B12 and Vit. D  4739\n",
    "# \"\"\"\n",
    "\n"
   ]
  },
  {
   "cell_type": "code",
   "execution_count": 10,
   "metadata": {},
   "outputs": [],
   "source": [
    "text= \"\\n\\n\"+ 'TEXT 1:' + \"\\n\\n\" + text_1 + \"\\n\\n\" + 'JSON 1:' + \"\\n\\n\" + to_str(json_1) + \"\\n\\n\\n\" + 'TEXT 2:' + \"\\n\\n\" + text_2 + \"\\n\\n\" + 'JSON 2 (your turn):' + \"\\n\\n\""
   ]
  },
  {
   "cell_type": "code",
   "execution_count": 11,
   "metadata": {},
   "outputs": [
    {
     "name": "stdout",
     "output_type": "stream",
     "text": [
      "[INST]<<SYS>>\n",
      "Transform the following detailed text into a well-structured JSON format. Identify the key entities within the text and use them as JSON keys, \n",
      "and their detailed descriptions as values. Make sure that the JSON is a valid one and contains no syntax issue, and all the bracketes are aligned.\n",
      "With the values, please also enlist the dates as well.\n",
      "Ensure the JSON structure accurately reflects the hierarchical organization of the \n",
      "information in the text. Please be meticulous in filling out all values comprehensively and meaningfully, \n",
      "avoiding the use of boolean values (true or false) and empty fields. The JSON output should strictly \n",
      "contain relevant and accurate data from the text without any addition of extraneous or false information.\n",
      "\n",
      "\n",
      "<</SYS>>\n",
      "\n",
      "{text}[/INST]\n"
     ]
    }
   ],
   "source": [
    "from langchain import HuggingFacePipeline\n",
    "from langchain import PromptTemplate, LLMChain\n",
    "\n",
    "llm = HuggingFacePipeline(pipeline = pipe.get_pipeline(), model_kwargs = {'temperature':0})\n",
    "instruction=\"{text}\"\n",
    "\n",
    "template=get_prompt(instruction, system_prompt2)\n",
    "print(template)\n",
    "prompt = PromptTemplate(template=template, input_variables=[\"text\"])\n",
    "llm_chain = LLMChain(prompt=prompt, llm=llm, verbose=True)"
   ]
  },
  {
   "cell_type": "code",
   "execution_count": 12,
   "metadata": {},
   "outputs": [
    {
     "name": "stderr",
     "output_type": "stream",
     "text": [
      "Setting `pad_token_id` to `eos_token_id`:2 for open-end generation.\n"
     ]
    },
    {
     "name": "stdout",
     "output_type": "stream",
     "text": [
      "\n",
      "\n",
      "\u001b[1m> Entering new LLMChain chain...\u001b[0m\n",
      "Prompt after formatting:\n",
      "\u001b[32;1m\u001b[1;3m[INST]<<SYS>>\n",
      "Transform the following detailed text into a well-structured JSON format. Identify the key entities within the text and use them as JSON keys, \n",
      "and their detailed descriptions as values. Make sure that the JSON is a valid one and contains no syntax issue, and all the bracketes are aligned.\n",
      "With the values, please also enlist the dates as well.\n",
      "Ensure the JSON structure accurately reflects the hierarchical organization of the \n",
      "information in the text. Please be meticulous in filling out all values comprehensively and meaningfully, \n",
      "avoiding the use of boolean values (true or false) and empty fields. The JSON output should strictly \n",
      "contain relevant and accurate data from the text without any addition of extraneous or false information.\n",
      "\n",
      "\n",
      "<</SYS>>\n",
      "\n",
      "\n",
      "\n",
      "TEXT 1:\n",
      "\n",
      "HPI:\n",
      "A 57 year old male patient presents with Breast Lump or Lumps.  Since last visit, it shows no change. D/W DR KUMTHEKAR, DR gabriel and message left with Dr Dysine.\n",
      "In addition he presents with Weakness.  It is resolved.\n",
      "In addition he presents with chronic renal insufficency.  Since last visit, it has improved. ON HD.\n",
      "In addition he presents with Comments, f/u, Tiredness, Muscle Weakness and follow up.\n",
      "Allergies:\n",
      "NKDA\n",
      "Current Medications:\n",
      "Labetalol HCl 300 MG Oral Tablet:  300 Milligrams every 8 hours ,  Start 11/07/2017,  Qty 180 Tablet(s)  For 30 Day(s) Refill 2\n",
      "Procardia XL 30 MG Oral Tablet Extended Release 24 Hour:  30 Milligrams daily ,  Start 01/26/2017,  Qty 30 Tablet(s)  For 30 Day(s) Refill 1\n",
      "Nephro-Vite 0.8 MG Oral Tablet:  1 Tablet(s) daily ,  Qty 30 Tablet(s)  For 30 Day(s) Refill 1\n",
      "Calcium Acetate (Phos Binder) 667 MG Oral Tablet: 1 Tablet(s) 3 times daily, Qty 160 Tablet(s)  For 30 Day(s) Refill 2\n",
      "Minoxidil 10 MG Oral Tablet:  2 Tablet(s) daily ,  Qty 60 Tablet(s)  For 30 Day(s) Refill 3\n",
      "Past Medications:\n",
      "Clindamycin HCl 300 MG Oral Capsule:  1 Capsule(s) every 6 hours ,  Start 11/27/2017,  Qty 40 Tablet(s)  For 10 Day(s), - Discontinued by Hameed, Rizwanullah on 01/30/2020\n",
      "Zithromax 500 MG Oral Tablet:  500 Milligram(s) once a day ,  Start 12/26/2019,  Qty 3 Tablet(s)  For 3 Day(s), - Discontinued by Hameed, Rizwanullah on 01/30/2020\n",
      "Medical History:\n",
      "Hypertension\n",
      "HD M ,W  AND  FRIDAY.\n",
      "Surgical History:\n",
      "none:  Reason of surgery was AV GRAFT LEFT ARM 6 YRS BACK.\n",
      "Social History:\n",
      "Tobacco: Current, Every day smoker, <1 Pack a day    2 beedis per day.\n",
      "Family History:\n",
      "Hypertension\n",
      "- Mother\n",
      "Review of Systems:\n",
      "Cardiovascular:\n",
      "Denies\n",
      "Chest Pain , Dyspnea on Exertion , Nocturnal Paroxysmal Dyspnea , Palpitations and Syncope\n",
      "Endocrine:\n",
      "Denies\n",
      "Appetite Changes , Cold Intolerance and Heat Intolerance\n",
      "Gastrointestinal:\n",
      "Denies\n",
      "Abdominal Pain , Bloody Stools , Change in Appetite , Change in Bowel Habits , Constipation , Diarrhea , Nausea and Vomiting\n",
      "General:\n",
      "Admits\n",
      "Able to Conduct Usual Activities and Comfortable\n",
      "Denies\n",
      "Anorexia and Apparent Distress\n",
      "HEENT:\n",
      "Denies\n",
      "Decreased Hearing and Neck Mass\n",
      "Musculoskeletal:\n",
      "Denies\n",
      "Joint Pain , Joint Stiffness and Joint Swelling\n",
      "Neurological:\n",
      "Denies\n",
      "Dizziness , Numbness , Paralysis , Visual Changes and Weakness\n",
      "Psychiatric:\n",
      "Denies\n",
      "Anxiety  and Change in Sleep Pattern\n",
      "Respiratory:\n",
      "Denies\n",
      "Dyspnea , Non-productive Cough , Productive Cough and Shortness of Breath\n",
      "Skin:\n",
      "Denies\n",
      "Hair loss and Rash\n",
      "\n",
      "JSON 1:\n",
      "\n",
      "{\"HPI\": {\"Age\": \"57\", \"Sex\": \"Male\", \"Presenting_Complaints\": {\"Breast_Lump\": {\"Status\": \"No change\", \"Discussion\": \"D/W DR KUMTHEKAR, DR gabriel and message left with Dr Dysine\"}, \"Weakness\": {\"Status\": \"Resolved\"}, \"Chronic_Renal_Insufficiency\": {\"Status\": \"Improved\", \"Additional_Info\": \"ON HD\"}, \"Additional_Complaints\": [\"Comments\", \"f/u\", \"Tiredness\", \"Muscle Weakness\", \"Follow up\"]}}, \"Allergies\": \"NKDA\", \"Current_Medications\": {\"Labetalol_HCl\": {\"Dose\": \"300 MG\", \"Frequency\": \"every 8 hours\", \"Start_Date\": \"11/07/2017\", \"Quantity\": \"180 Tablet(s)\", \"Duration\": \"30 Day(s)\", \"Refill\": \"2\"}, \"Procardia_XL\": {\"Dose\": \"30 MG\", \"Frequency\": \"daily\", \"Start_Date\": \"01/26/2017\", \"Quantity\": \"30 Tablet(s)\", \"Duration\": \"30 Day(s)\", \"Refill\": \"1\"}, \"Nephro_Vite\": {\"Dose\": \"0.8 MG\", \"Frequency\": \"daily\", \"Quantity\": \"30 Tablet(s)\", \"Duration\": \"30 Day(s)\", \"Refill\": \"1\"}, \"Calcium_Acetate\": {\"Dose\": \"667 MG\", \"Frequency\": \"3 times daily\", \"Quantity\": \"160 Tablet(s)\", \"Duration\": \"30 Day(s)\", \"Refill\": \"2\"}, \"Minoxidil\": {\"Dose\": \"10 MG\", \"Frequency\": \"daily\", \"Quantity\": \"60 Tablet(s)\", \"Duration\": \"30 Day(s)\", \"Refill\": \"3\"}}, \"Past_Medications\": {\"Clindamycin_HCl\": {\"Dose\": \"300 MG\", \"Frequency\": \"every 6 hours\", \"Start_Date\": \"11/27/2017\", \"Quantity\": \"40 Tablet(s)\", \"Duration\": \"10 Day(s)\", \"Discontinued_By\": \"Hameed, Rizwanullah\", \"Discontinue_Date\": \"01/30/2020\"}, \"Zithromax\": {\"Dose\": \"500 MG\", \"Frequency\": \"once a day\", \"Start_Date\": \"12/26/2019\", \"Quantity\": \"3 Tablet(s)\", \"Duration\": \"3 Day(s)\", \"Discontinued_By\": \"Hameed, Rizwanullah\", \"Discontinue_Date\": \"01/30/2020\"}}, \"Medical_History\": {\"Conditions\": [\"Hypertension\"], \"Hemodialysis_Schedule\": \"HD M, W AND FRIDAY\"}, \"Surgical_History\": {\"AV_Graft_Left_Arm\": {\"Timeframe\": \"6 years back\", \"Reason\": \"Reason of surgery was AV GRAFT LEFT ARM 6 YRS BACK\"}}, \"Social_History\": {\"Tobacco_Use\": {\"Status\": \"Current\", \"Frequency\": \"Every day smoker\", \"Quantity\": \"<1 Pack a day, 2 beedis per day\"}}, \"Family_History\": {\"Hypertension\": [\"Mother\"]}, \"Review_of_Systems\": {\"General\": {\"Able_To_Conduct_Usual_Activities\": \"true\", \"Comfortable\": \"true\"}}}\n",
      "\n",
      "\n",
      "TEXT 2:\n",
      "\n",
      "A70 Yyear oldmalepresents with PMHx of HTN, DM with Diabetic retinopathy, catarcts, Asthma, Hyperlipidemia presents for pre-operative evaluation for cataract surgery which scheduled on July 13, 2023. He doesnt have any active complaint at the moment except pain in the right 3rd finger, accompanied a mild swelling and alight tenderness but there is no warmth or redness. He feels the pain when is going to sleep. He is not checking his BP and sugar level at home regularly.\n",
      "Allergies\n",
      "Penicillin\n",
      "(Drug), . Reactions: Rash  ,\n",
      "Fish  (Food) or any Sea Food: Rashes\n",
      "dust  (General)\n",
      "Perfume  (Drug)\n",
      "Current Medications\n",
      "Lancets 30G Miscellaneous:\n",
      "1 Lancets every 12 hours ,  Start 06/10/2022,  Qty 3 Box(es)  For 90 Day(s) Refill 5\n",
      "Entresto 24-26 MG Oral Tablet:\n",
      "Oral TWICE A DAY, Qty 30 Tablet(s)  For 30 Day(s) Refill 5\n",
      "metFORMIN HCl 1000 MG Oral Tablet:\n",
      "1 Tablet(s) 2 times daily Oral,  Start 12/30/2022,  Qty 180 Tablet(s)  For 90 Day(s) Refill 1\n",
      "amLODIPine Besylate 10 MG Oral Tablet:\n",
      "1 Tablet(s) daily Oral,  Start 12/30/2022,  Qty 90 Tablet(s)  For 90 Day(s) Refill 2\n",
      "Farxiga 10 MG Oral Tablet:\n",
      "1 Tablet(s) daily Oral,  Qty 30 Tablet(s)  For 30 Day(s) Refill 5\n",
      "Coreg 25 MG Oral Tablet:\n",
      "1 Tablet(s) 2 times daily Oral,  Qty 60 Tablet(s)  For 30 Day(s) Refill 2\n",
      "Rosuvastatin Calcium 10 MG Oral Tablet:\n",
      "1 Tablet(s) daily Oral,  Qty 30 Tablet(s)  For 30 Day(s) Refill 6\n",
      "Gabapentin 300 MG Oral Capsule:\n",
      "300 Milligrams 3 times daily Oral,  Start 05/10/2023,  End 11/06/2023,  Qty 270 Tablet(s)  For 90 Day(s) Refill 1\n",
      "Medical History\n",
      "arrythmia\n",
      ": Since .\n",
      "Asthma\n",
      ": No more.\n",
      "Diabetes mellitus type 2\n",
      "Hypercholesterolemia\n",
      "Hypertension\n",
      "He had Congenital heart disease and was repaired when he was a child.\n",
      "pneumonia and flu shot fall2019\n",
      "diabetic retinopathy\n",
      "CKD 2\n",
      "SEEN BY UROLOGY 11/2020\n",
      "LARYNGEAL REFLUX DISEASE\n",
      "COVID 2 SHOTS DONE  MODERNA 11/21/21/(BOOSTER)\n",
      "pt had a colonoscopy done last year ie. 2021.\n",
      "Surgical History\n",
      "heart surgery\n",
      "eye prosthesis\n",
      "prosthetic right eye\n",
      "\n",
      "pt recieves eylea intraocular injection via the opthalmologist.\n",
      "Social History\n",
      "Tobacco:\n",
      "Smoker, current status unknown, <1 Pack a day  for more than 20 Yrs  pt smokes cigars occasionally..\n",
      "Average Sleep:\n",
      "6 Hours/Night.\n",
      "Family History\n",
      "Hypertension\n",
      "•\n",
      "No evidence of disease found for Father and Mother\n",
      "Diabetes mellitus type 2\n",
      "White matter Atherosclerosis\n",
      "Review of Systems\n",
      "Cardiovascular:\n",
      "pain in the right 3rd finger, accompanied a mild swelling and alight tenderness but there is no warmth or redness. He feels the pain when is going to sleep.\n",
      "Denies\n",
      "Chest Pain , Dyspnea on Exertion , Nocturnal Paroxysmal Dyspnea , Palpitations and Syncope\n",
      "Endocrine:\n",
      "Denies\n",
      "Appetite Changes , Cold Intolerance and Heat Intolerance\n",
      "Gastrointestinal:\n",
      "Denies\n",
      "Abdominal Pain , Bloody Stools , Change in Appetite , Change in Bowel Habits , Constipation , Diarrhea , Nausea and Vomiting\n",
      "General:\n",
      "Admits\n",
      "Able to Conduct Usual Activities and Comfortable\n",
      "Denies\n",
      "Anorexia and Apparent Distress\n",
      "HEENT:\n",
      "Denies\n",
      "Decreased Hearing and Neck Mass\n",
      "Musculoskeletal:\n",
      "Denies\n",
      "Joint Pain , Joint Stiffness and Joint Swelling\n",
      "Neurological:\n",
      "Denies\n",
      "Dizziness , Numbness , Paralysis , Visual Changes and Weakness\n",
      "Psychiatric:\n",
      "Denies\n",
      "Anxiety  and Change in Sleep Pattern\n",
      "Respiratory:\n",
      "Denies\n",
      "Dyspnea , Non-productive Cough , Productive Cough and Shortness of Breath\n",
      "Skin:\n",
      "Denies\n",
      "Hair loss and Rash\n",
      "\n",
      "JSON 2 (your turn):\n",
      "\n",
      "[/INST]\u001b[0m\n",
      "\n",
      "\u001b[1m> Finished chain.\u001b[0m\n"
     ]
    },
    {
     "data": {
      "text/plain": [
       "{'text': ' {\"Patient\": {\"Age\": \"70\", \"Sex\": \"Male\", \"Medical_History\": {\"Conditions\": [\"HTN\", \"DM\", \"Diabetic_Retinopathy\", \"Asthma\", \"Hyperlipidemia\", \"Arrhythmia\", \"CKD_2\", \"Laryngeal_Reflux_Disease\", \"Congenital_Heart_Disease\"], \"Previous_Surgeries\": [\"Heart_Surgery\", \"Eye_Prosthesis\"], \"Immunizations\": [\"pneumonia_and_flu_shot_fall2019\", \"COVID_1All_Shots_Done_Moderna_112121_Booster\"], \"Last_Colonoscopy\": {\"Year\": \"2021\"}}, \"Allergies\": {\"Penicillin\": {\"Type\": \"Drug\", \"Reactions\": [\"Rash\"]}}, \"Food_Allergies\": {\"Type\": \"Food\", \"Foods\": [\"Fish\", \"Sea_Food\"], \"Reactions\": [\"Rashes\"]}, \"Environmental_Allergies\": {\"Type\": \"General\", \"Allergens\": [\"Dust\"], \"Reactions\": [\"Rashes\"]}, \"Perfume_Allergies\": {\"Type\": \"Drug\", \"Reactions\": [\"Rashes\"]}}, \"Current_Medications\": {\"Lancets_30G\": {\"Dose\": \"1 Lancet(s)\", \"Frequency\": \"every 12 hours\", \"Start_Date\": \"06/10/2022\", \"Quantity\": \"3 Box(es)\", \"Duration\": \"90 Day(s)\", \"Refill\": \"5\"}, \"Entresto\": {\"Dose\": \"24-26 MG\", \"Frequency\": \"twice a day\", \"Start_Date\": \"12/30/2022\", \"Quantity\": \"30 Tablet(s)\", \"Duration\": \"30 Day(s)\", \"Refill\": \"5\"}, \"Metformin_HCl\": {\"Dose\": \"1000 MG\", \"Frequency\": \"2 times daily\", \"Start_Date\": \"12/30/2022\", \"Quantity\": \"180 Tablet(s)\", \"Duration\": \"90 Day(s)\", \"Refill\": \"1\"}, \"Amlodipine_Besylate\": {\"Dose\": \"10 MG\", \"Frequency\": \"daily\", \"Start_Date\": \"12/30/2022\", \"Quantity\": \"90 Tablet(s)\", \"Duration\": \"90 Day(s)\", \"Refill\": \"2\"}, \"Farxiga\": {\"Dose\": \"10 MG\", \"Frequency\": \"daily\", \"Quantity\": \"30 Tablet(s)\", \"Duration\": \"30 Day(s)\", \"Refill\": \"5\"}, \"Coreg\": {\"Dose\": \"25 MG\", \"Frequency\": \"2 times daily\", \"Quantity\": \"60 Tablet(s)\", \"Duration\": \"30 Day(s)\", \"Refill\": \"2\"}, \"Rosuvastatin_Calcium\": {\"Dose\": \"10 MG\", \"Frequency\": \"daily\", \"Quantity\": \"30 Tablet(s)\", \"Duration\": \"30 Day(s)\", \"Refill\": \"6\"}, \"Gabapentin\": {\"Dose\": \"300 MG\", \"Frequency\": \"3 times daily\", \"Start_Date\": \"05/10/2023\", \"End_Date\": \"11/06/2023\", \"Quantity\": \"270 Tablet(s)\", \"Duration\": \"90 Day(s)\", \"Refill\": \"1\"}}, \"Right_Third_Finger\": {\"Status\": \"Has pain\", \"Description\": \"mild swelling and alight tenderness but no warmth or redness. Feels pain when going to sleep.\", \"Additional_Info\": \"\"}}, \"Presenting_Complaint\": {\"Status\": \"No active complaint\", \"Additional_Info\": \"\"}, \"Past_Medications\": {\"Lancets_30G_Miscellaneous\": {\"Medication_Name\": \"Lancets_30G_Miscellaneous\", \"Start_Date\": \"06/10/2022\", \"Duration\": \"90 Day(s)\", \"Discontinued\": \"false\", \"Reason\": \"\"}, \"Clindamycin_HCl\": {\"Medication_Name\": \"Clindamycin_HCl\", \"Dose\": \"1 Capsule(s)\", \"Frequency\": \"every 6 hours\", \"Start_Date\": \"11/27/2021\", \"End_Date\": \"01/30/2022\", \"Discontinued\": \"true\", \"Reason\": \"\"}, \"Zithromax\": {\"Medication_Name\": \"Zithromax\", \"Dose\": \"500 Milligram(s)\", \"Frequency\": \"once a day\", \"Start_Date\": \"12/26/2019\", \"End_Date\": \"01/30/2020\", \"Discontinued\": \"true\", \"Reason\": \"\"}}}\\n}}\\n\\nNote that some fields might need adjustments based on the context and data completeness. The date range for the Gabapentin medication seems to be missing in the text, for example. Additionally, I assumed that the \"Start\\\\_Date\" and \"End\\\\_Date\" for Gabapentin were supposed to be present in the text and that I was just missing them, but they might not actually be mentioned. In that case, the fields would need to be removed or set to null.'}"
      ]
     },
     "execution_count": 12,
     "metadata": {},
     "output_type": "execute_result"
    }
   ],
   "source": [
    "llm_response = llm_chain({\"text\":text})\n",
    "llm_response"
   ]
  },
  {
   "cell_type": "code",
   "execution_count": 15,
   "metadata": {},
   "outputs": [],
   "source": [
    "res = llm_response['text']"
   ]
  },
  {
   "cell_type": "code",
   "execution_count": 13,
   "metadata": {},
   "outputs": [
    {
     "name": "stdout",
     "output_type": "stream",
     "text": [
      " {\"Patient\": {\"Age\": \"70\", \"Sex\": \"Male\", \"Medical_History\": {\"Conditions\": [\"HTN\", \"DM\", \"Diabetic_Retinopathy\", \"Asthma\", \"Hyperlipidemia\", \"Arrhythmia\", \"CKD_2\", \"Laryngeal_Reflux_Disease\", \"Congenital_Heart_Disease\"], \"Previous_Surgeries\": [\"Heart_Surgery\", \"Eye_Prosthesis\"], \"Immunizations\": [\"pneumonia_and_flu_shot_fall2019\", \"COVID_1All_Shots_Done_Moderna_112121_Booster\"], \"Last_Colonoscopy\": {\"Year\": \"2021\"}}, \"Allergies\": {\"Penicillin\": {\"Type\": \"Drug\", \"Reactions\": [\"Rash\"]}}, \"Food_Allergies\": {\"Type\": \"Food\", \"Foods\": [\"Fish\", \"Sea_Food\"], \"Reactions\": [\"Rashes\"]}, \"Environmental_Allergies\": {\"Type\": \"General\", \"Allergens\": [\"Dust\"], \"Reactions\": [\"Rashes\"]}, \"Perfume_Allergies\": {\"Type\": \"Drug\", \"Reactions\": [\"Rashes\"]}}, \"Current_Medications\": {\"Lancets_30G\": {\"Dose\": \"1 Lancet(s)\", \"Frequency\": \"every 12 hours\", \"Start_Date\": \"06/10/2022\", \"Quantity\": \"3 Box(es)\", \"Duration\": \"90 Day(s)\", \"Refill\": \"5\"}, \"Entresto\": {\"Dose\": \"24-26 MG\", \"Frequency\": \"twice a day\", \"Start_Date\": \"12/30/2022\", \"Quantity\": \"30 Tablet(s)\", \"Duration\": \"30 Day(s)\", \"Refill\": \"5\"}, \"Metformin_HCl\": {\"Dose\": \"1000 MG\", \"Frequency\": \"2 times daily\", \"Start_Date\": \"12/30/2022\", \"Quantity\": \"180 Tablet(s)\", \"Duration\": \"90 Day(s)\", \"Refill\": \"1\"}, \"Amlodipine_Besylate\": {\"Dose\": \"10 MG\", \"Frequency\": \"daily\", \"Start_Date\": \"12/30/2022\", \"Quantity\": \"90 Tablet(s)\", \"Duration\": \"90 Day(s)\", \"Refill\": \"2\"}, \"Farxiga\": {\"Dose\": \"10 MG\", \"Frequency\": \"daily\", \"Quantity\": \"30 Tablet(s)\", \"Duration\": \"30 Day(s)\", \"Refill\": \"5\"}, \"Coreg\": {\"Dose\": \"25 MG\", \"Frequency\": \"2 times daily\", \"Quantity\": \"60 Tablet(s)\", \"Duration\": \"30 Day(s)\", \"Refill\": \"2\"}, \"Rosuvastatin_Calcium\": {\"Dose\": \"10 MG\", \"Frequency\": \"daily\", \"Quantity\": \"30 Tablet(s)\", \"Duration\": \"30 Day(s)\", \"Refill\": \"6\"}, \"Gabapentin\": {\"Dose\": \"300 MG\", \"Frequency\": \"3 times daily\", \"Start_Date\": \"05/10/2023\", \"End_Date\": \"11/06/2023\", \"Quantity\": \"270 Tablet(s)\", \"Duration\": \"90 Day(s)\", \"Refill\": \"1\"}}, \"Right_Third_Finger\": {\"Status\": \"Has pain\", \"Description\": \"mild swelling and alight tenderness but no warmth or redness. Feels pain when going to sleep.\", \"Additional_Info\": \"\"}}, \"Presenting_Complaint\": {\"Status\": \"No active complaint\", \"Additional_Info\": \"\"}, \"Past_Medications\": {\"Lancets_30G_Miscellaneous\": {\"Medication_Name\": \"Lancets_30G_Miscellaneous\", \"Start_Date\": \"06/10/2022\", \"Duration\": \"90 Day(s)\", \"Discontinued\": \"false\", \"Reason\": \"\"}, \"Clindamycin_HCl\": {\"Medication_Name\": \"Clindamycin_HCl\", \"Dose\": \"1 Capsule(s)\", \"Frequency\": \"every 6 hours\", \"Start_Date\": \"11/27/2021\", \"End_Date\": \"01/30/2022\", \"Discontinued\": \"true\", \"Reason\": \"\"}, \"Zithromax\": {\"Medication_Name\": \"Zithromax\", \"Dose\": \"500 Milligram(s)\", \"Frequency\": \"once a day\", \"Start_Date\": \"12/26/2019\", \"End_Date\": \"01/30/2020\", \"Discontinued\": \"true\", \"Reason\": \"\"}}}\n",
      "}}\n",
      "\n",
      "Note that some fields might need adjustments based on the context and data completeness. The date range for the Gabapentin medication seems to be missing in the text, for example. Additionally, I assumed that the \"Start\\_Date\" and \"End\\_Date\" for Gabapentin were supposed to be present in the text and that I was just missing them, but they might not actually be mentioned. In that case, the fields would need to be removed or set to null.\n"
     ]
    }
   ],
   "source": [
    "print(llm_response['text'])"
   ]
  },
  {
   "cell_type": "code",
   "execution_count": 16,
   "metadata": {},
   "outputs": [
    {
     "name": "stdout",
     "output_type": "stream",
     "text": [
      " {\"Patient\": {\"Age\": \"70\", \"Sex\": \"Male\", \"Medical_History\": {\"Conditions\": [\"HTN\", \"DM\", \"Diabetic_Retinopathy\", \"Asthma\", \"Hyperlipidemia\", \"Arrhythmia\", \"CKD_2\", \"Laryngeal_Reflux_Disease\", \"Congenital_Heart_Disease\"], \"Previous_Surgeries\": [\"Heart_Surgery\", \"Eye_Prosthesis\"], \"Immunizations\": [\"pneumonia_and_flu_shot_fall2019\", \"COVID_1All_Shots_Done_Moderna_112121_Booster\"], \"Last_Colonoscopy\": {\"Year\": \"2021\"}}, \"Allergies\": {\"Penicillin\": {\"Type\": \"Drug\", \"Reactions\": [\"Rash\"]}}, \"Food_Allergies\": {\"Type\": \"Food\", \"Foods\": [\"Fish\", \"Sea_Food\"], \"Reactions\": [\"Rashes\"]}, \"Environmental_Allergies\": {\"Type\": \"General\", \"Allergens\": [\"Dust\"], \"Reactions\": [\"Rashes\"]}, \"Perfume_Allergies\": {\"Type\": \"Drug\", \"Reactions\": [\"Rashes\"]}}, \"Current_Medications\": {\"Lancets_30G\": {\"Dose\": \"1 Lancet(s)\", \"Frequency\": \"every 12 hours\", \"Start_Date\": \"06/10/2022\", \"Quantity\": \"3 Box(es)\", \"Duration\": \"90 Day(s)\", \"Refill\": \"5\"}, \"Entresto\": {\"Dose\": \"24-26 MG\", \"Frequency\": \"twice a day\", \"Start_Date\": \"12/30/2022\", \"Quantity\": \"30 Tablet(s)\", \"Duration\": \"30 Day(s)\", \"Refill\": \"5\"}, \"Metformin_HCl\": {\"Dose\": \"1000 MG\", \"Frequency\": \"2 times daily\", \"Start_Date\": \"12/30/2022\", \"Quantity\": \"180 Tablet(s)\", \"Duration\": \"90 Day(s)\", \"Refill\": \"1\"}, \"Amlodipine_Besylate\": {\"Dose\": \"10 MG\", \"Frequency\": \"daily\", \"Start_Date\": \"12/30/2022\", \"Quantity\": \"90 Tablet(s)\", \"Duration\": \"90 Day(s)\", \"Refill\": \"2\"}, \"Farxiga\": {\"Dose\": \"10 MG\", \"Frequency\": \"daily\", \"Quantity\": \"30 Tablet(s)\", \"Duration\": \"30 Day(s)\", \"Refill\": \"5\"}, \"Coreg\": {\"Dose\": \"25 MG\", \"Frequency\": \"2 times daily\", \"Quantity\": \"60 Tablet(s)\", \"Duration\": \"30 Day(s)\", \"Refill\": \"2\"}, \"Rosuvastatin_Calcium\": {\"Dose\": \"10 MG\", \"Frequency\": \"daily\", \"Quantity\": \"30 Tablet(s)\", \"Duration\": \"30 Day(s)\", \"Refill\": \"6\"}, \"Gabapentin\": {\"Dose\": \"300 MG\", \"Frequency\": \"3 times daily\", \"Start_Date\": \"05/10/2023\", \"End_Date\": \"11/06/2023\", \"Quantity\": \"270 Tablet(s)\", \"Duration\": \"90 Day(s)\", \"Refill\": \"1\"}}, \"Right_Third_Finger\": {\"Status\": \"Has pain\", \"Description\": \"mild swelling and alight tenderness but no warmth or redness. Feels pain when going to sleep.\", \"Additional_Info\": \"\"}}, \"Presenting_Complaint\": {\"Status\": \"No active complaint\", \"Additional_Info\": \"\"}, \"Past_Medications\": {\"Lancets_30G_Miscellaneous\": {\"Medication_Name\": \"Lancets_30G_Miscellaneous\", \"Start_Date\": \"06/10/2022\", \"Duration\": \"90 Day(s)\", \"Discontinued\": \"false\", \"Reason\": \"\"}, \"Clindamycin_HCl\": {\"Medication_Name\": \"Clindamycin_HCl\", \"Dose\": \"1 Capsule(s)\", \"Frequency\": \"every 6 hours\", \"Start_Date\": \"11/27/2021\", \"End_Date\": \"01/30/2022\", \"Discontinued\": \"true\", \"Reason\": \"\"}, \"Zithromax\": {\"Medication_Name\": \"Zithromax\", \"Dose\": \"500 Milligram(s)\", \"Frequency\": \"once a day\", \"Start_Date\": \"12/26/2019\", \"End_Date\": \"01/30/2020\", \"Discontinued\": \"true\", \"Reason\": \"\"}}}\n",
      "}}\n"
     ]
    }
   ],
   "source": [
    "# res = ('{' + llm_response['text'].split('{', 1)[1])\n",
    "res = res.rsplit('}', 1)[0] + '}'\n",
    "print(res)"
   ]
  },
  {
   "cell_type": "code",
   "execution_count": 17,
   "metadata": {},
   "outputs": [],
   "source": [
    "with open('test.json', 'w') as f:\n",
    "    f.write(res)\n"
   ]
  },
  {
   "cell_type": "code",
   "execution_count": 17,
   "metadata": {},
   "outputs": [
    {
     "name": "stdout",
     "output_type": "stream",
     "text": [
      "The given json file is valid: True\n"
     ]
    }
   ],
   "source": [
    "import json\n",
    "\n",
    "def is_valid_json(json_string):\n",
    "    try:\n",
    "        json.loads(json_string)\n",
    "        return True\n",
    "    except json.JSONDecodeError:\n",
    "        return False\n",
    "\n",
    "# Example usage\n",
    "print(f\"The given json file is valid: {is_valid_json(res)}\")\n"
   ]
  },
  {
   "cell_type": "code",
   "execution_count": 1,
   "metadata": {},
   "outputs": [
    {
     "ename": "NameError",
     "evalue": "name 'res' is not defined",
     "output_type": "error",
     "traceback": [
      "\u001b[0;31m---------------------------------------------------------------------------\u001b[0m",
      "\u001b[0;31mNameError\u001b[0m                                 Traceback (most recent call last)",
      "Cell \u001b[0;32mIn[1], line 3\u001b[0m\n\u001b[1;32m      1\u001b[0m \u001b[39mimport\u001b[39;00m \u001b[39mclipboard\u001b[39;00m\n\u001b[0;32m----> 3\u001b[0m clipboard\u001b[39m.\u001b[39mcopy(res)\n",
      "\u001b[0;31mNameError\u001b[0m: name 'res' is not defined"
     ]
    }
   ],
   "source": [
    "import clipboard\n",
    "\n",
    "clipboard.copy(res)"
   ]
  }
 ],
 "metadata": {
  "kernelspec": {
   "display_name": "mistralenv",
   "language": "python",
   "name": "python3"
  },
  "language_info": {
   "codemirror_mode": {
    "name": "ipython",
    "version": 3
   },
   "file_extension": ".py",
   "mimetype": "text/x-python",
   "name": "python",
   "nbconvert_exporter": "python",
   "pygments_lexer": "ipython3",
   "version": "3.10.12"
  }
 },
 "nbformat": 4,
 "nbformat_minor": 2
}
